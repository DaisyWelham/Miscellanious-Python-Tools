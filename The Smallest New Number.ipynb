{
 "cells": [
  {
   "cell_type": "markdown",
   "id": "0ac1b488-0e5e-402b-803b-a557989e9e52",
   "metadata": {},
   "source": [
    "There have been a finite number of humans that have existed and each of those has said or thought about a finite number of numbers. So there must be a smallest natural number which no one has ever said or written down before! Without exhaustively checking every thought that everyone has ever had then we can't know what this number is for sure, but let's try to estimate it! We want a ball-park figure for the smallest order of magnitude where most numbers we could write down of that size have never been written down before by any human.\n",
    "\n",
    "Sloane's sequences describe several interesting sets of natural numbers and the formula for how often a number x appears in sloane's sequences is approximately $\\frac{253000000}{x^{1.33}}$ (see https://www.youtube.com/watch?v=_YysNM2JoFo&t=226s). If we find the smallest number where this formula equals 0.5 then we find the smallest number which appears in Sloane an average of half a time, or equivalently the numbers of that magnitude have a probability of appearing in Sloane of about a 50%. Similarly, let's fine the smallest number where the probability of appearing in Sloane is 10% or 1%.\n",
    "\n",
    "We'll use Sloane as a proxy for \"how often this number has appeared in human thought\". This is obviously not true, since humans have for example probably thought about the number 2 much more than 100,000,000 times, but for large numbers it seems this might be a reasonable approximation.\n",
    "\n",
    "Also we're exlcuding cases where people write down a number but interpret it only as digits. Credit card numbers, phone numbers, activation codes etc are all quite large but if you express your credit card number as 1234-5678-9012-3456 then you actually think \"one two three four - five six seven eight...\" not \"one quadrillion two hundred and thirty four trillion...\"."
   ]
  },
  {
   "cell_type": "code",
   "execution_count": 1,
   "id": "51b70d59-a2c2-49f0-b014-0ea476db2bab",
   "metadata": {},
   "outputs": [
    {
     "name": "stdout",
     "output_type": "stream",
     "text": [
      "3503273.732883235\n"
     ]
    }
   ],
   "source": [
    "#0.5x^1.33 = 253,000,000\n",
    "#x^1.33 = 2 * 253,000,000\n",
    "#x = (2 * 253,000,000 ^ (1/1.33))\n",
    "sloane50 = (2 * 253000000) ** (1/1.33)\n",
    "print(sloane50)"
   ]
  },
  {
   "cell_type": "markdown",
   "id": "05e5de54-51d3-48cc-9faa-2a9f3dd430db",
   "metadata": {},
   "source": [
    "So 3,503,274 is the smallest number which our approximation gives less than a 50% chance of appearing in Sloane. Let's also find Sloane 10 and Sloane 1."
   ]
  },
  {
   "cell_type": "code",
   "execution_count": 2,
   "id": "3412e255-8f97-4eb2-8bac-34e897a6aff4",
   "metadata": {},
   "outputs": [
    {
     "name": "stdout",
     "output_type": "stream",
     "text": [
      "11749392.97011615\n",
      "66358281.233835645\n"
     ]
    }
   ],
   "source": [
    "sloane10 = ((1 / 0.1) * 253000000) ** (1/1.33)\n",
    "print(sloane10)\n",
    "\n",
    "sloane1 = ((1 / 0.01) * 253000000) ** (1/1.33)\n",
    "print(sloane1)"
   ]
  },
  {
   "cell_type": "markdown",
   "id": "3f8acf19-f5d8-41a8-b79d-77918de33afb",
   "metadata": {},
   "source": [
    "So maybe about 10% of numbers above 11,749,393 appear in Sloane, and 1% of numbers above 66,358,282 appear in Sloane.\n",
    "\n",
    "So if we say any number above 66 million or so, we can be about 99% sure that no other human has ever said that number, as long as we don't pick a \"special\" number like 66,666,666 or 66,000,001."
   ]
  }
 ],
 "metadata": {
  "kernelspec": {
   "display_name": "Python [conda env:base] *",
   "language": "python",
   "name": "conda-base-py"
  },
  "language_info": {
   "codemirror_mode": {
    "name": "ipython",
    "version": 3
   },
   "file_extension": ".py",
   "mimetype": "text/x-python",
   "name": "python",
   "nbconvert_exporter": "python",
   "pygments_lexer": "ipython3",
   "version": "3.13.5"
  }
 },
 "nbformat": 4,
 "nbformat_minor": 5
}
