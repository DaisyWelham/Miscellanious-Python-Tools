{
 "cells": [
  {
   "cell_type": "markdown",
   "id": "4595a316-c3dd-4427-8ce1-0ea85d3a0591",
   "metadata": {},
   "source": [
    "This code lets us turn a bunch of graphs into a .GIF file."
   ]
  },
  {
   "cell_type": "code",
   "execution_count": 1,
   "id": "dc80a100-7b6e-4d1c-b4ee-6bec4d7df1c6",
   "metadata": {},
   "outputs": [],
   "source": [
    "import numpy as np\n",
    "import matplotlib.pyplot as plt\n",
    "import imageio.v2 as imageio"
   ]
  },
  {
   "cell_type": "code",
   "execution_count": 2,
   "id": "17395a9a-4f30-4335-ae95-afd7ffcc4ef0",
   "metadata": {},
   "outputs": [],
   "source": [
    "nFrames = 100\n",
    "frameDuration = 0.01\n",
    "xData = np.linspace(-1, 1, 1000)\n",
    "\n",
    "images = []\n",
    "\n",
    "for i in range(nFrames):\n",
    "    yData = [np.sin(x * i / 10) for x in xData]\n",
    "    fig, ax = plt.subplots()\n",
    "    ax.plot(xData, yData)\n",
    "    ax.set_ylim(-1, 1)  \n",
    "    ax.set_xlim(-1, 1)  \n",
    "    ax.grid(True)\n",
    "    fig.canvas.draw()\n",
    "    image = np.asarray(fig.canvas.buffer_rgba())\n",
    "    images.append(image)\n",
    "    plt.close(fig) \n",
    "\n",
    "imageio.mimsave(\"output.gif\", images, duration = frameDuration)"
   ]
  },
  {
   "cell_type": "code",
   "execution_count": null,
   "id": "daaa9fa0-08e7-4272-b1e3-3d09d2b37adf",
   "metadata": {},
   "outputs": [],
   "source": []
  }
 ],
 "metadata": {
  "kernelspec": {
   "display_name": "Python 3 (ipykernel)",
   "language": "python",
   "name": "python3"
  },
  "language_info": {
   "codemirror_mode": {
    "name": "ipython",
    "version": 3
   },
   "file_extension": ".py",
   "mimetype": "text/x-python",
   "name": "python",
   "nbconvert_exporter": "python",
   "pygments_lexer": "ipython3",
   "version": "3.10.16"
  }
 },
 "nbformat": 4,
 "nbformat_minor": 5
}
