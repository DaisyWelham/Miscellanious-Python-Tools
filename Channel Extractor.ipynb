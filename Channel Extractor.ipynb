{
 "cells": [
  {
   "cell_type": "markdown",
   "id": "4a7ad9f3-cd81-4e16-b771-f64974e98429",
   "metadata": {},
   "source": [
    "## Channel extractor"
   ]
  },
  {
   "cell_type": "markdown",
   "id": "8c516607-867f-474e-8809-3e1714694e81",
   "metadata": {},
   "source": [
    "Want a list of the YouTube channels you're subscrimed to? Simply ctrl + A, ctrl + C, then paste in the appropriate line."
   ]
  },
  {
   "cell_type": "code",
   "execution_count": 1,
   "id": "12d213a0-08e9-4617-932a-924e49fa7b85",
   "metadata": {},
   "outputs": [
    {
     "name": "stdout",
     "output_type": "stream",
     "text": [
      "\n",
      "Extracted channels:\n"
     ]
    }
   ],
   "source": [
    "text = \"\"\"\n",
    " YOUR TEXT GOES HERE\n",
    "\"\"\"\n",
    "\n",
    "lines = text.splitlines()\n",
    "channels = []\n",
    "\n",
    "for i in range(len(lines) - 1):\n",
    "    line = lines[i].strip()\n",
    "    next_line = lines[i + 1].strip()\n",
    "    \n",
    "    if line and next_line.startswith(\"@\"):\n",
    "        channels.append(line)\n",
    "\n",
    "print(\"\\nExtracted channels:\")\n",
    "for channel in channels:\n",
    "    print(channel)"
   ]
  },
  {
   "cell_type": "markdown",
   "id": "b011a742-d03d-46d0-82f6-6816b2cbfc55",
   "metadata": {},
   "source": [
    "Disclaimer: I didn't write most of this code myself, I used ChatGPT. But I tested it with my own subscription list and it seems to have worked. It's my understanding that AI-generated code cannot be copyrighted and nor can code where there is a single obvious way of doing something which people are likely to converge on, and so it should be okay to post this here, but I'm not a lawyer so please don't sue me."
   ]
  },
  {
   "cell_type": "code",
   "execution_count": null,
   "id": "e79e6e42-ef5c-4d90-b8e7-fd60d80f4108",
   "metadata": {},
   "outputs": [],
   "source": []
  }
 ],
 "metadata": {
  "kernelspec": {
   "display_name": "Python 3 (ipykernel)",
   "language": "python",
   "name": "python3"
  },
  "language_info": {
   "codemirror_mode": {
    "name": "ipython",
    "version": 3
   },
   "file_extension": ".py",
   "mimetype": "text/x-python",
   "name": "python",
   "nbconvert_exporter": "python",
   "pygments_lexer": "ipython3",
   "version": "3.13.5"
  }
 },
 "nbformat": 4,
 "nbformat_minor": 5
}
