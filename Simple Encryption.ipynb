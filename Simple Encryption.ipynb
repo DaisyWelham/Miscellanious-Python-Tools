{
 "cells": [
  {
   "cell_type": "markdown",
   "id": "73882b2c-3338-40bd-a571-5c0959ed2239",
   "metadata": {},
   "source": [
    "This code does very simple encryption. Since A XOR B XOR B = A, we can use XOR to encrypt and decrypt a message. The code is not secure, can you find the vulnerabilities? Can you design a better version without the vulnerabilities?"
   ]
  },
  {
   "cell_type": "code",
   "execution_count": 1,
   "id": "19b9cb19-435b-4979-931d-afedeb66ddf3",
   "metadata": {},
   "outputs": [
    {
     "name": "stdin",
     "output_type": "stream",
     "text": [
      "What's the key? 123\n",
      "What's the message? MyCatsName420!\n"
     ]
    }
   ],
   "source": [
    "key = int(input(\"What's the key?\"))\n",
    "message = input(\"What's the message?\")"
   ]
  },
  {
   "cell_type": "code",
   "execution_count": 2,
   "id": "ce3d4aff-b7e2-4ee9-8883-07dff7d8a0e1",
   "metadata": {},
   "outputs": [
    {
     "name": "stdout",
     "output_type": "stream",
     "text": [
      "[54, 2, 56, 26, 15, 8, 53, 26, 22, 30, 79, 73, 75, 90]\n"
     ]
    }
   ],
   "source": [
    "encrypted = [ord(c) ^ key for c in message]\n",
    "print(encrypted)"
   ]
  },
  {
   "cell_type": "code",
   "execution_count": 3,
   "id": "ef0be011-5662-4ad4-975f-e98dd76068b6",
   "metadata": {},
   "outputs": [
    {
     "name": "stdout",
     "output_type": "stream",
     "text": [
      "MyCatsName420!\n"
     ]
    }
   ],
   "source": [
    "loadedText = encrypted\n",
    "decrypted = ''.join(chr(c ^ key) for c in loadedText)\n",
    "print(decrypted)"
   ]
  },
  {
   "cell_type": "code",
   "execution_count": null,
   "id": "5b76079e-0d65-4b91-a135-fc23883ede67",
   "metadata": {},
   "outputs": [],
   "source": []
  }
 ],
 "metadata": {
  "kernelspec": {
   "display_name": "Python 3 (ipykernel)",
   "language": "python",
   "name": "python3"
  },
  "language_info": {
   "codemirror_mode": {
    "name": "ipython",
    "version": 3
   },
   "file_extension": ".py",
   "mimetype": "text/x-python",
   "name": "python",
   "nbconvert_exporter": "python",
   "pygments_lexer": "ipython3",
   "version": "3.10.16"
  }
 },
 "nbformat": 4,
 "nbformat_minor": 5
}
