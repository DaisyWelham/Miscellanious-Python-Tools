{
 "cells": [
  {
   "cell_type": "markdown",
   "id": "01933ba0-f7a6-4ee4-92e0-907fd680a54a",
   "metadata": {},
   "source": [
    "Suppose you want most of a project to be implemented in Python, but you need a small section in Java for security, efficiency etc. Here is a way to use jpype to call Java methods in Python! Remember to replace myMethod and the arguments with the actual method and arguments you want."
   ]
  },
  {
   "cell_type": "code",
   "execution_count": null,
   "id": "ad04baa8-0476-40fb-830e-6bfbfc2f43c3",
   "metadata": {},
   "outputs": [],
   "source": [
    "import jpype1\n",
    "\n",
    "path = input(\"Where is the Java file?\")\n",
    "name = input(\"What is the class called?\")\n",
    "jpype1.startJVM(classpath = [path])\n",
    "javaClass = jpype1.JClass(name)\n",
    "result = javaClass.myMethod(42)\n",
    "jpype1.shutdownJVM()"
   ]
  },
  {
   "cell_type": "code",
   "execution_count": null,
   "id": "2a8e1995-691a-4b3b-b35a-8a25ec1c96d2",
   "metadata": {},
   "outputs": [],
   "source": []
  }
 ],
 "metadata": {
  "kernelspec": {
   "display_name": "Python 3 (ipykernel)",
   "language": "python",
   "name": "python3"
  },
  "language_info": {
   "codemirror_mode": {
    "name": "ipython",
    "version": 3
   },
   "file_extension": ".py",
   "mimetype": "text/x-python",
   "name": "python",
   "nbconvert_exporter": "python",
   "pygments_lexer": "ipython3",
   "version": "3.10.16"
  }
 },
 "nbformat": 4,
 "nbformat_minor": 5
}
