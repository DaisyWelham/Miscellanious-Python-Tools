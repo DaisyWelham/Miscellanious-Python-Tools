{
 "cells": [
  {
   "cell_type": "code",
   "execution_count": 1,
   "id": "88f115ce-a2d4-463e-ba45-e7d84bcea72d",
   "metadata": {},
   "outputs": [],
   "source": [
    "import random as r\n",
    "r.seed(1)"
   ]
  },
  {
   "cell_type": "markdown",
   "id": "3fc9d5c7-446b-4015-b5b8-845e7b2c5346",
   "metadata": {},
   "source": [
    "# Square Roots"
   ]
  },
  {
   "cell_type": "markdown",
   "id": "e8424b75-8e86-4353-adab-a49356110e13",
   "metadata": {},
   "source": [
    "Suppose we want the square root of a number but are not allowed to use ** 0.5. We can guess a value for the square root and iterate until we get a better and better approximation to the answer. The point in this is that we may be able to find other iterative methods to calculate things that Python does not have a build-in function for."
   ]
  },
  {
   "cell_type": "code",
   "execution_count": 2,
   "id": "ab84ccfb-fca6-48b1-afb7-c63ac58833b9",
   "metadata": {},
   "outputs": [
    {
     "name": "stdout",
     "output_type": "stream",
     "text": [
      "After 1 iterations our guess for sqrt(38) is: 6.298151438427791\n",
      "After 2 iterations our guess for sqrt(38) is: 6.165833919734869\n",
      "After 3 iterations our guess for sqrt(38) is: 6.16441416646378\n",
      "After 4 iterations our guess for sqrt(38) is: 6.164414002968979\n",
      "After 5 iterations our guess for sqrt(38) is: 6.164414002968977\n",
      "After 6 iterations our guess for sqrt(38) is: 6.164414002968977\n",
      "After 7 iterations our guess for sqrt(38) is: 6.164414002968977\n",
      "After 8 iterations our guess for sqrt(38) is: 6.164414002968977\n",
      "After 9 iterations our guess for sqrt(38) is: 6.164414002968977\n",
      "After 10 iterations our guess for sqrt(38) is: 6.164414002968977\n",
      "Actual value for sqrt(38) is: 6.164414002968976\n"
     ]
    }
   ],
   "source": [
    "value = 38\n",
    "numIterations = 10\n",
    "modifier = 1\n",
    "if value < 0:\n",
    "    modifier = -1\n",
    "initialGuess = modifier * r.uniform(0, value)\n",
    "currentGuess = initialGuess\n",
    "for i in range(numIterations):\n",
    "    currentGuess = (currentGuess + value / currentGuess) / 2\n",
    "    print(f\"After {i + 1} iterations our guess for sqrt({value}) is: {currentGuess}\")\n",
    "print(f\"Actual value for sqrt({value}) is: {value ** 0.5}\")"
   ]
  },
  {
   "cell_type": "markdown",
   "id": "2401a071-0646-4201-91aa-0430415a90ea",
   "metadata": {},
   "source": [
    "# Newton Raphsen"
   ]
  },
  {
   "cell_type": "markdown",
   "id": "44eb8242-092e-4931-8e86-dd0b9852a892",
   "metadata": {},
   "source": [
    "Given an expression f(x) we can use the Newton-Raphsen method to a solution for f(x) = 0. Newton-Raphsen tells us our next guess should be $U_{n+1} = U_{n} - \\frac{f(U_{n}}{f'(U_{n})}$."
   ]
  },
  {
   "cell_type": "code",
   "execution_count": 3,
   "id": "7c707957-cd60-4087-b443-ffe924831779",
   "metadata": {},
   "outputs": [
    {
     "name": "stdout",
     "output_type": "stream",
     "text": [
      "After 1 iterations our guess for f(x) = 0 is x = -108.84670410440643\n",
      "After 2 iterations our guess for f(x) = 0 is x = -53.699173053131155\n",
      "After 3 iterations our guess for f(x) = 0 is x = -26.153704595585356\n",
      "After 4 iterations our guess for f(x) = 0 is x = -12.437377032432432\n",
      "After 5 iterations our guess for f(x) = 0 is x = -5.690485310131969\n",
      "After 6 iterations our guess for f(x) = 0 is x = -2.5276454299130697\n",
      "After 7 iterations our guess for f(x) = 0 is x = -1.2881715708765522\n",
      "After 8 iterations our guess for f(x) = 0 is x = -1.0144010414937243\n",
      "After 9 iterations our guess for f(x) = 0 is x = -1.0000126284280828\n",
      "After 10 iterations our guess for f(x) = 0 is x = -0.9999999747246162\n"
     ]
    }
   ],
   "source": [
    "#Known to have roots 4, -1\n",
    "def f(x):\n",
    "    return(x ** 2 - 3 * x - 4)\n",
    "\n",
    "def fPrime(x, dx = 0.01):\n",
    "    return((f(x + dx) - f(x)) / dx)\n",
    "\n",
    "numIterations = 10\n",
    "initialGuess = r.uniform(-10, 10)\n",
    "currentGuess = initialGuess\n",
    "for i in range(numIterations):\n",
    "    currentGuess = currentGuess - f(currentGuess) / fPrime(currentGuess)\n",
    "    print(f\"After {i + 1} iterations our guess for f(x) = 0 is x = {currentGuess}\")"
   ]
  },
  {
   "cell_type": "markdown",
   "id": "034a4d74-34f7-4bee-a031-3d5116f0b004",
   "metadata": {},
   "source": [
    "# Evolutionary Computation"
   ]
  },
  {
   "cell_type": "markdown",
   "id": "f5c080ef-246b-4943-accf-5fdab5de6188",
   "metadata": {},
   "source": [
    "One natural way to extend iterative methods is with evolutionary computation. If we have a way of evaluating how good or bad a solution to a particular problem is and a way of generating solutions, we can use that to solve the problem. See https://github.com/DaisyWelham/Optimization-Evolutionary-Computation for more! :)"
   ]
  },
  {
   "cell_type": "code",
   "execution_count": null,
   "id": "9d5d289c-11df-42c8-b906-8c112c65a7bd",
   "metadata": {},
   "outputs": [],
   "source": []
  }
 ],
 "metadata": {
  "kernelspec": {
   "display_name": "Python [conda env:base] *",
   "language": "python",
   "name": "conda-base-py"
  },
  "language_info": {
   "codemirror_mode": {
    "name": "ipython",
    "version": 3
   },
   "file_extension": ".py",
   "mimetype": "text/x-python",
   "name": "python",
   "nbconvert_exporter": "python",
   "pygments_lexer": "ipython3",
   "version": "3.13.5"
  }
 },
 "nbformat": 4,
 "nbformat_minor": 5
}
